{
 "cells": [
  {
   "cell_type": "markdown",
   "id": "7d61a2d8-3046-4c85-8d4c-81e696a94735",
   "metadata": {},
   "source": [
    "<img src=\"https://upload.wikimedia.org/wikipedia/commons/thumb/c/c3/Python-logo-notext.svg/230px-Python-logo-notext.svg.png\" alt=\"Python\" width=\"100\"/>\n",
    "\n",
    "# Introduction to Python\n",
    "\n",
    "Please note that this is not intended to be a comprehensive introduction to Python, which is outside the scope of this course. Rather, it provides a brief introduction for familiarizing yourself with the functionality needed for the labs. We will be using some of the resources from the official Python/NumPy/Matlplotlib tutorials, as well as some additional information from the documentation of, e.g., NumPy. If you want to dive a bit deeper, you can read all the different topics of the tutorials.\n",
    "\n",
    "* Python: https://docs.python.org/3/tutorial/index.html  \n",
    "* NumPy: https://numpy.org/devdocs/user/absolute_beginners.html\n",
    "* Matplotlib: https://matplotlib.org/stable/tutorials/pyplot.html"
   ]
  },
  {
   "cell_type": "markdown",
   "id": "f9fdff01-bf02-4e00-84fd-2380213b62fb",
   "metadata": {},
   "source": [
    "## 1. Python basics"
   ]
  },
  {
   "cell_type": "markdown",
   "id": "44e0a83e-4158-4c5f-b5c7-8937298217cb",
   "metadata": {},
   "source": [
    "### 1.1. Working with lists\n",
    "Perform the following tasks, and print the results to follow the examples below.\n",
    "Information about the syntax/functionalities needed for the tasks can be found in the Python tutorial: [Python introduction](https://docs.python.org/3/tutorial/introduction.html)\n",
    "\n",
    "Define a list with three elements: one string, one number, and one boolean:  \n",
    "`['some text', 4, True]`\n",
    "\n",
    "Print the first 4 characters of the string:  \n",
    "`some`\n",
    "\n",
    "Extend the list by replecating it three times:  \n",
    "`['some text', 4, True, 'some text', 4, True, 'some text', 4, True]`\n",
    "\n",
    "Define a second list with two elements:  \n",
    "`['str', 2]`\n",
    "\n",
    "Concatenate both lists:  \n",
    "`['some text', 4, True, 'some text', 4, True, 'some text', 4, True, 'str', 2]`\n",
    "\n",
    "Retrieve the last 3 elements of the list (use negative indexing):  \n",
    "`[True, 'str', 2]`\n",
    "\n",
    "Append the first list to your final list (making a nested list):  \n",
    "`[True, 'str', 2, ['some text', 4, True]]`\n",
    "\n",
    "Print the length of the final list:  \n",
    "`4`"
   ]
  },
  {
   "cell_type": "code",
   "execution_count": null,
   "id": "4c665768-e049-48a6-94d6-a9487c4c816b",
   "metadata": {},
   "outputs": [],
   "source": [
    "# Your code goes here\n",
    "list1 = \n",
    "print(list1)\n",
    "list2 = \n",
    "print(list2)"
   ]
  },
  {
   "cell_type": "markdown",
   "id": "b2a8183e-adba-4578-9ffd-1a46aa630b87",
   "metadata": {},
   "source": [
    "### 1.2. Control statements\n",
    "Information on control statements in the Python tutorial: [Python control flow](https://docs.python.org/3/tutorial/controlflow.html)\n",
    "\n",
    "Define a list with integer numbers from 1 to 15 with increments of 2 (use the `range(...)` function). Write a for-loop to print each element of the list:  \n",
    "`1`  \n",
    "`3`  \n",
    "`5`  \n",
    "`7`  \n",
    "`9`  \n",
    "`11`  \n",
    "`13`  \n",
    "`15`\n",
    "\n",
    "Write a function `square(...)` that accepts one input and returns the square of this (you can use the operator `**`). Define an empty list, and use a for-loop and your function to store the square of each element in the original list above (you use the function `square(...)` for each element and append it to the new list):  \n",
    "`[1, 9, 25, 49, 81, 121, 169, 225]`\n",
    "\n",
    "Write a function `is_prime(...)` that accepts one input and returns `True` if it is a prime number, otherwise `False`. You will need to use, e.g., a for-loop, if-statements, and the remainder of division operator (`%`). You should also break the for-loop if the number is determined to be a prime number, to avoid unnecessary calculations. Write a for-loop that outputs each prime number in your original list:  \n",
    "`3`  \n",
    "`5`  \n",
    "`7`  \n",
    "`11`  \n",
    "`13`\n"
   ]
  },
  {
   "cell_type": "code",
   "execution_count": null,
   "id": "5c287e71-4259-491c-b652-2571f37fb41a",
   "metadata": {},
   "outputs": [],
   "source": [
    "# Your code goes here\n",
    "\n",
    "def square(...\n",
    "\n",
    "def is_prime(...\n",
    "\n",
    "listx = \n",
    "listy = []\n",
    "\n",
    "for ..."
   ]
  },
  {
   "cell_type": "markdown",
   "id": "359bdd06-9347-4055-8296-2128677ffb01",
   "metadata": {},
   "source": [
    "## 2. NumPy and Matplotlib"
   ]
  },
  {
   "cell_type": "markdown",
   "id": "d61b0828-3277-40c7-8ad6-de85c06d83b9",
   "metadata": {},
   "source": [
    "### 2.1. NumPy\n",
    "Read about the basic concepts of NumPy here: [NumPy introduction](https://numpy.org/doc/stable/user/absolute_beginners.html)\n",
    "\n",
    "Define a list with some numbers:  \n",
    "`[1, 2, 3, 4, 5, 6, 7, 8]`\n",
    "\n",
    "Convert the list to a vector (NumPy array):  \n",
    "`[1 2 3 4 5 6 7 8]`\n",
    "\n",
    "Print the shape of the vector:  \n",
    "`(8,)`\n",
    "\n",
    "[Transpose](https://numpy.org/doc/stable/user/absolute_beginners.html#transposing-and-reshaping-a-matrix) the vector and print the shape:  \n",
    "`(8,)`\n",
    "\n",
    "[Convert](https://numpy.org/doc/stable/user/absolute_beginners.html#how-to-convert-a-1d-array-into-a-2d-array-how-to-add-a-new-axis-to-an-array) the vector to a 8x1 dimensional matrix and print the shape:  \n",
    "`(8, 1)`\n",
    "\n",
    "Transpose the matrix and print the shape:  \n",
    "`(1, 8)`\n",
    "$$\n",
    "\\begin{bmatrix}\n",
    "1 \\\\\n",
    "2 \\\\\n",
    "3 \\\\\n",
    "4 \\\\\n",
    "5 \\\\\n",
    "6 \\\\\n",
    "7 \\\\\n",
    "8 \\\\\n",
    "\\end{bmatrix}^\\intercal=\\begin{bmatrix}\n",
    "1 & 2 & 3 & 4 & 5 & 6 & 7 & 8\\\\\n",
    "\\end{bmatrix}\n",
    "$$\n",
    "\n",
    "Reshape this 1x8 matrix to a 2x4 matrix and print your output:\n",
    "$$\n",
    "M = \\begin{bmatrix}\n",
    "1 & 2 & 3 & 4\\\\\n",
    "5 & 6 & 7 & 8\n",
    "\\end{bmatrix}\n",
    "$$\n",
    "Transposing the matrix $M$, you will get a matrix $N$:\n",
    "$$\n",
    "N = M^\\intercal = \\begin{bmatrix}\n",
    "1 & 5 \\\\\n",
    "2 & 6 \\\\\n",
    "3 & 7 \\\\\n",
    "4 & 8 \\\\\n",
    "\\end{bmatrix}\n",
    "$$\n",
    "Perform the [matrix multiplication](https://numpy.org/devdocs/reference/generated/numpy.matmul.html) between the two arrays, $M$ and $N$:\n",
    "$$\n",
    "MN = \\begin{bmatrix}\n",
    "1 & 2 & 3 & 4\\\\\n",
    "5 & 6 & 7 & 8\n",
    "\\end{bmatrix}\n",
    "\\begin{bmatrix}\n",
    "1 & 5 \\\\\n",
    "2 & 6 \\\\\n",
    "3 & 7 \\\\\n",
    "4 & 8 \\\\\n",
    "\\end{bmatrix} = \\begin{bmatrix}\n",
    "30 & 70 \\\\\n",
    "70 & 174 \\\\\n",
    "\\end{bmatrix}\n",
    "$$\n",
    "\n",
    "Reshape the 2x4 matrix $M$ to a 2x2x2 [Tensor](https://towardsdatascience.com/what-is-a-tensor-in-deep-learning-6dedd95d6507) and print your output.\n",
    "How does this 3 dimensional Tensor look like? Copy your output [here](https://array-3d-viz.vercel.app/) to visualize it. How about Tensors with 4 or more dimensions?\n",
    "\n",
    "Generate a NumPy array with 500 random numbers, using a normal distribution with mean = 1 and standard deviation = 0.5. You can use the NumPy [random normal generator](https://numpy.org/doc/stable/reference/random/generated/numpy.random.Generator.normal.html). Print the shape of the array:  \n",
    "`(500,)`\n",
    "\n",
    "Print a formatted output (for formatted printing, see: [Python formatting](https://docs.python.org/3/tutorial/inputoutput.html#fancier-output-formatting)) with the min, max, mean, and [standard deviation](https://numpy.org/doc/stable/reference/routines.statistics.html#averages-and-variances) of your array:  \n",
    "`min = -0.69, max = 2.67, mean = 1.01, std = 0.53`"
   ]
  },
  {
   "cell_type": "code",
   "execution_count": 10,
   "id": "a2b2cf05-e3e3-4af7-9ae4-20d6cbca5f83",
   "metadata": {},
   "outputs": [
    {
     "data": {
      "text/plain": [
       "array([[ 30,  70],\n",
       "       [ 70, 174]])"
      ]
     },
     "execution_count": 10,
     "metadata": {},
     "output_type": "execute_result"
    }
   ],
   "source": [
    "import numpy as np\n",
    "\n",
    "# Your code goes here"
   ]
  },
  {
   "cell_type": "markdown",
   "id": "361ce028-7fa4-4ec7-aa0b-d8e309db1c49",
   "metadata": {},
   "source": [
    "### 2.2. Matplotlib\n",
    "Read about the basic concepts of Matplotlib here: [Pyplot tutorial](https://matplotlib.org/stable/tutorials/pyplot.html)\n",
    "\n",
    "Use NumPy to generate a sinusoidal between x=0 and x=10, with 100 uniform sampling locations (you can use the NumPy `linspace` and `sin` functions).\n",
    "\n",
    "Define a second array by adding some normally distributed noise to your sinusoidal (mean = 0, std = 0.2).\n",
    "\n",
    "Plot the sinusoidal as a line and the noisy sinusoidal as individual points. Your result should look something like this:  \n",
    "<img src=\"img/sin.png\" alt=\"Sinusoidal\" width=\"400\"/>"
   ]
  },
  {
   "cell_type": "code",
   "execution_count": null,
   "id": "521c3b18-6b70-483d-9cfd-5e5e71def1ed",
   "metadata": {},
   "outputs": [],
   "source": [
    "import matplotlib.pyplot as plt\n",
    "\n",
    "# Your code goes here"
   ]
  },
  {
   "cell_type": "markdown",
   "id": "732d4710-8185-468f-aa5c-6ec548e34c0b",
   "metadata": {},
   "source": [
    "### 2.3. Generating a dataset\n",
    "\n",
    "Create an array with 200 2D points, i.e. a $200\\times2$ array, normally distributed with mean=1 and std=0.1. Print the shape of the array:  \n",
    "`(200, 2)`\n",
    "\n",
    "Plot the 2D points, i.e. plotting the first dimension against the second:  \n",
    "<img src=\"img/2d_1.png\" alt=\"2D points\" width=\"300\"/>\n",
    "\n",
    "Create a second array in the same way, but using mean=0.5:  \n",
    "\n",
    "<img src=\"img/2d_2.png\" alt=\"2D points\" width=\"300\"/>\n",
    "\n",
    "Concatenate both arrays into a dataset array `x`. Create another 1D array, `y`, with labels describing which cluster/class the points belong to, 0 for the first and 1 for the second. You will now have a data array with shape `(400, 2)` and a label array with shape `(400,)`.  \n",
    "Plot the points and use the labels to apply separate colors and legends (for example, you can index the points of the first class as `x[y==0,:]` and plot each class separately by doing the same for the different classes):  \n",
    "<img src=\"img/2d_3.png\" alt=\"2D points\" width=\"300\"/>"
   ]
  },
  {
   "cell_type": "code",
   "execution_count": null,
   "id": "df112ce1-930f-4110-8b41-d62750cec3e9",
   "metadata": {},
   "outputs": [],
   "source": [
    "# Your code goes here"
   ]
  },
  {
   "cell_type": "markdown",
   "id": "9791b689-2051-4733-b7cc-f38dd927149c",
   "metadata": {},
   "source": [
    "### 2.4. Data generation and plotting functions\n",
    "\n",
    "Generalize the dataset generation into a function `generate(K, N, sigma)` that creates a 2D point dataset with of  K different clusters with N points each. The points in each cluster should be normally distributed with std=sigma. Define different mean for the clusters, for example sampled uniformly between 0 to 1 (or you can come up with some other scheme for defining K different mean values).\n",
    "\n",
    "Write another function for plotting, `plot_data(x, y)`, which plots the dataset x using the labels y, similar to in the previous exercise. You can also pass the number of classes, K, to facilitate the plotting of different classes, i.e. using the function definition `plot_data(x, y, K)`. However, you can also calculate K directly from the label array y (see, e.g., the [NumPy function `unique`](https://numpy.org/devdocs/reference/generated/numpy.unique.html), or since you know that the labels are between 0 to K-1, you can use $K = \\max(y)+1$).\n",
    "\n",
    "Using the two different functions you can generate and plot datasets with different configurations:  \n",
    "<img src=\"img/2d_4.png\" alt=\"2D points\" width=\"400\"/><img src=\"img/2d_5.png\" alt=\"2D points\" width=\"400\"/>"
   ]
  },
  {
   "cell_type": "code",
   "execution_count": null,
   "id": "df7b3496-91bc-470e-8329-c7a9c4d2c388",
   "metadata": {},
   "outputs": [],
   "source": [
    "# K - number of classes/clusters\n",
    "# N - number of data points in each class\n",
    "# sigma - std of clusters\n",
    "def generate(K, N, sigma):\n",
    "    ;\n",
    "\n",
    "# x - data points\n",
    "# y - labels\n",
    "def plot_data(x, y):\n",
    "    ;\n",
    "\n",
    "x, y = generate(3, 200, 0.1)\n",
    "plot_data(x, y)\n",
    "\n",
    "x, y = generate(5, 100, 0.05)\n",
    "plot_data(x, y)"
   ]
  },
  {
   "cell_type": "markdown",
   "id": "8e03d7b3-3b64-4f17-be05-0eaf31569d85",
   "metadata": {},
   "source": [
    "### 2.5. Data transformation\n",
    "\n",
    "Define a $2\\times2$ transformation matrix, W:  \n",
    "`W = np.array([[0,-1],[1, 0]])`\n",
    "\n",
    "Define an output array with the same size as your data array x. Loop through your data array and transform each 2D point using the transformation matrix, $\\hat{x} = Wx$. Store the result in the new array.  \n",
    "\n",
    "**Important note (this will be relevant in Lab 1)**: When you extract a point from your dataset, `xi = x[i,:]`, it will be a 1D array, i.e. `xi.shape: (2,)`. Depending on your NumPy version, the behavior of matrix multiplication with a 1D array is different. For more recent NumPy versions (1.16 and later), the `matmul` and `dot` functions automatically take care of this (*If the second argument is 1-D, it is promoted to a matrix by appending a 1 to its dimensions. After matrix multiplication the appended 1 is removed.* See the notes in the [documentation](https://numpy.org/doc/stable/reference/generated/numpy.matmul.html)). For previous versions, you need to manually extend the dimensionality, so that `xi.shape: (2,1)`, and you can multiply the $2\\times2$ matrix with the $2\\times1$ point. After transformation you need to remove the added dimension, e.g., by indexing `x[:,0]`.\n",
    "\n",
    "Plot the transformed array:  \n",
    "<img src=\"img/2d_6.png\" alt=\"2D points\" width=\"400\"/>\n",
    "\n",
    "Define a function, `rotate(x, ang)`, for rotating the dataset. In the function, you define a $2\\times2$ rotation matrix that rotates your data points by `ang` radians, and you return the rotated dataset. You can use the provided code below to rotate and plot the dataset. This will clear the output (`clear_output()`) for each plot, so that we get an animation of different rotations."
   ]
  },
  {
   "cell_type": "code",
   "execution_count": null,
   "id": "28e828f2-8170-4a1c-817e-d6cd2ba31904",
   "metadata": {},
   "outputs": [],
   "source": [
    "from IPython.display import clear_output\n",
    "\n",
    "# Dataset\n",
    "x, y = generate(3, 200, 0.1)\n",
    "\n",
    "# Transformation matrix\n",
    "W = np.array([[0,-1],[1, 0]])\n",
    "\n",
    "# Array for storing transformed dataset\n",
    "xt = \n",
    "\n",
    "# Transform each point in the dataset\n",
    "for ...\n",
    "    xt[...] = \n",
    "\n",
    "plot_data(xt,y)\n",
    "\n",
    "#def rotate(x, ang):\n",
    "#    ;\n",
    "\n",
    "#for ang in np.linspace(0, 2*np.pi, 30):\n",
    "#    xt = rotate(x, ang)\n",
    "#    clear_output(wait=True)\n",
    "#    plot_data(xt,y)"
   ]
  },
  {
   "cell_type": "markdown",
   "id": "d018f54d-b95c-4c8d-abc9-43f74793e5ba",
   "metadata": {
    "jp-MarkdownHeadingCollapsed": true
   },
   "source": [
    "## 3. All comes together"
   ]
  },
  {
   "cell_type": "markdown",
   "id": "c400390f-0bba-4f82-be2b-406fd49889e0",
   "metadata": {},
   "source": [
    "### 3.1. The dataset generator\n",
    "\n",
    "For information about classes, see the Python tutorial: [Python classes](https://docs.python.org/3/tutorial/classes.html)\n",
    "\n",
    "Open a new python file (not a notebook) and name it \"*data_generator.py*\". In this file, create a class called **DataGenerator**. In the constructor (`__init__(self)`) you can define the data **x** and labels **y** as empty lists:  \n",
    "`self.x = []`  \n",
    "`self.y = []`\n",
    "\n",
    "Add the `generate` and `plot_data` functions from above to your class. Make sure to modify the functions to use the class instance variables (`self.x` and `self.y`). The function `generate` creates a new dataset and stores this using the class instance variables, while `plot_data` plots these (thus, we don't need to pass x and y to this function). You should be able to run the code below and get a result similar to:  \n",
    "<img src=\"img/2d_7.png\" alt=\"2D points\" width=\"400\"/>"
   ]
  },
  {
   "cell_type": "code",
   "execution_count": null,
   "id": "1ca9e730-0b5e-4587-93b2-c2059f1ba6f9",
   "metadata": {},
   "outputs": [],
   "source": [
    "import numpy as np\n",
    "import data_generator\n",
    "\n",
    "# importlib is used to reload the data_generator. Otherwise we need to restart \n",
    "# the kernel of the notebook each time we make changes to data_generator.py\n",
    "import importlib\n",
    "importlib.reload(data_generator)\n",
    "\n",
    "# Create an instance of the DataGenerator class\n",
    "dg = data_generator.DataGenerator()\n",
    "\n",
    "# Generate some data and plot\n",
    "dg.generate(5, 100, 0.04)\n",
    "dg.plot_data()"
   ]
  },
  {
   "cell_type": "markdown",
   "id": "bdd460bd-064f-4d19-b3e0-77cf69ae8e8c",
   "metadata": {},
   "source": [
    "### 3.2. Additional functionalities\n",
    "\n",
    "Add also the `rotate` function to the data generator class. This should modify the class instance variable (`self.x`) instead of returning the transformed data.\n",
    "\n",
    "Create functions `export_data` and `import_data` that can be used to save the dataset to disc and load an existing dataset, respectively. **x** and **y** can be separately stored as \".npy\" files using `np.save`. You can also store them in the same \".npz\" file using `np.savez`. See the [Python documentation](https://numpy.org/devdocs/reference/routines.io.html) for information about reading and writing NumPy arrays.\n",
    "\n",
    "If you want to make it more challenging, you can try to export and import the labels **y** as a plain text file. For more information on reading and writing text files, you can start by reading about this in the [Python tutorial](https://docs.python.org/3/tutorial/inputoutput.html#reading-and-writing-files).\n",
    "\n",
    "With your added functions, you should be able to run the below code and get something like this as output:  \n",
    "<img src=\"img/2d_8.png\" alt=\"2D points\" width=\"400\"/>\n",
    "<img src=\"img/2d_9.png\" alt=\"2D points\" width=\"400\"/>"
   ]
  },
  {
   "cell_type": "code",
   "execution_count": null,
   "id": "4abaa366-674a-4d34-8878-cb93ef075404",
   "metadata": {},
   "outputs": [],
   "source": [
    "import numpy as np\n",
    "\n",
    "import importlib\n",
    "import data_generator\n",
    "importlib.reload(data_generator)\n",
    "\n",
    "dg = data_generator.DataGenerator()\n",
    "dg.generate(5, 100, 0.04)\n",
    "dg.export_data('output.npz')\n",
    "\n",
    "# Rotate the dataset\n",
    "dg.rotate(0.25*np.pi)\n",
    "dg.plot_data()\n",
    "\n",
    "# Create a new data generator and load the data\n",
    "# exported from the previous generator\n",
    "dg2 = data_generator.DataGenerator()\n",
    "dg2.import_data('output.npz')\n",
    "dg2.plot_data()"
   ]
  }
 ],
 "metadata": {
  "kernelspec": {
   "display_name": "Python 3 (ipykernel)",
   "language": "python",
   "name": "python3"
  },
  "language_info": {
   "codemirror_mode": {
    "name": "ipython",
    "version": 3
   },
   "file_extension": ".py",
   "mimetype": "text/x-python",
   "name": "python",
   "nbconvert_exporter": "python",
   "pygments_lexer": "ipython3",
   "version": "3.8.16"
  }
 },
 "nbformat": 4,
 "nbformat_minor": 5
}
